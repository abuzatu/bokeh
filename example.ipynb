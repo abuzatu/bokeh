{
 "cells": [
  {
   "cell_type": "markdown",
   "metadata": {},
   "source": [
    "# Example\n",
    "\n",
    "Code from https://www.geeksforgeeks.org/bokeh-plotting-figure-dash-function-in-python/?ref=rp"
   ]
  },
  {
   "cell_type": "code",
   "execution_count": 1,
   "metadata": {},
   "outputs": [],
   "source": [
    "import numpy as np   \n",
    "from bokeh.plotting import figure, output_file, show  "
   ]
  },
  {
   "cell_type": "code",
   "execution_count": 2,
   "metadata": {},
   "outputs": [],
   "source": [
    "# this will open an interactive plot in a browser new tab\n",
    "plot = figure(plot_width = 300, plot_height = 300)\n",
    "plot.dash(x = [1, 2, 3], y = [3, 7, 5],   \n",
    "            size = 20, color =\"green\", alpha = 0.9)\n",
    "show(plot)"
   ]
  },
  {
   "cell_type": "code",
   "execution_count": 3,
   "metadata": {},
   "outputs": [],
   "source": [
    "# this will open an interactive plot in a browser new tab\n",
    "# plut it also stores into an html file that can also be opened manually\n",
    "x = [1, 2, 3, 4, 5]  \n",
    "y = [6, 7, 8, 7, 3]  \n",
    "    \n",
    "output_file(\"geeksforgeeks.html\")  \n",
    "    \n",
    "p = figure(plot_width = 300, plot_height = 300)  \n",
    "    \n",
    "# add both a line and circles on the   \n",
    "# same plot  \n",
    "p.line(x, y, line_width = 2)  \n",
    "p.dash(x, y, fill_color =\"red\",   \n",
    "         line_color =\"green\", size = 25)  \n",
    "    \n",
    "show(p)"
   ]
  }
 ],
 "metadata": {
  "kernelspec": {
   "display_name": "Python 3",
   "language": "python",
   "name": "python3"
  },
  "language_info": {
   "codemirror_mode": {
    "name": "ipython",
    "version": 3
   },
   "file_extension": ".py",
   "mimetype": "text/x-python",
   "name": "python",
   "nbconvert_exporter": "python",
   "pygments_lexer": "ipython3",
   "version": "3.9.0"
  }
 },
 "nbformat": 4,
 "nbformat_minor": 4
}
